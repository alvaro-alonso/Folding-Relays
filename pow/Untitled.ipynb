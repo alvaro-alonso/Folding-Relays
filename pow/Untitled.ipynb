{
 "cells": [
  {
   "cell_type": "code",
   "execution_count": 4,
   "id": "dcfa46fc-128b-4599-a034-7ac8d0fbcb9a",
   "metadata": {},
   "outputs": [
    {
     "name": "stdout",
     "output_type": "stream",
     "text": [
      "version: 01000000\n",
      "little_endian_previousHash: ['1877117962', '3069293426', '3248923206', '2925786959', '2468250469', '3780774044', '1758861568', '0']\n",
      "010000006fe28c0ab6f1b372c1a6a246ae63f74f931e8365e15a089c68d6190000000000982051fd1e4ba744bbbe680e1fee14677ba1a3c3540bf7b1cdb606e857233e0e61bc6649ffff001d01e36299\n"
     ]
    },
    {
     "ename": "TypeError",
     "evalue": "fromhex() argument must be str, not bytes",
     "output_type": "error",
     "traceback": [
      "\u001b[0;31m---------------------------------------------------------------------------\u001b[0m",
      "\u001b[0;31mTypeError\u001b[0m                                 Traceback (most recent call last)",
      "Cell \u001b[0;32mIn[4], line 57\u001b[0m\n\u001b[1;32m     55\u001b[0m block \u001b[38;5;241m=\u001b[39m createZokratesInputFromBlock(result)\n\u001b[1;32m     56\u001b[0m \u001b[38;5;28mprint\u001b[39m(block)\n\u001b[0;32m---> 57\u001b[0m hash_one \u001b[38;5;241m=\u001b[39m \u001b[43mbitcoin_hash\u001b[49m\u001b[43m(\u001b[49m\u001b[43mblock\u001b[49m\u001b[43m)\u001b[49m\n\u001b[1;32m     58\u001b[0m \u001b[38;5;28mprint\u001b[39m(\u001b[38;5;124mf\u001b[39m\u001b[38;5;124m\"\u001b[39m\u001b[38;5;124mhash_one: \u001b[39m\u001b[38;5;132;01m{\u001b[39;00mhash_one\u001b[38;5;132;01m}\u001b[39;00m\u001b[38;5;130;01m\\n\u001b[39;00m\u001b[38;5;124mblock_hash: \u001b[39m\u001b[38;5;132;01m{\u001b[39;00mresult[\u001b[38;5;124m'\u001b[39m\u001b[38;5;124mhash\u001b[39m\u001b[38;5;124m'\u001b[39m]\u001b[38;5;132;01m}\u001b[39;00m\u001b[38;5;124m\"\u001b[39m)\n\u001b[1;32m     59\u001b[0m \u001b[38;5;28;01massert\u001b[39;00m(hash_one \u001b[38;5;241m==\u001b[39m result[\u001b[38;5;124m'\u001b[39m\u001b[38;5;124mhash\u001b[39m\u001b[38;5;124m'\u001b[39m])\n",
      "Cell \u001b[0;32mIn[4], line 42\u001b[0m, in \u001b[0;36mbitcoin_hash\u001b[0;34m(header)\u001b[0m\n\u001b[1;32m     40\u001b[0m header \u001b[38;5;241m=\u001b[39m binascii\u001b[38;5;241m.\u001b[39munhexlify(header)\n\u001b[1;32m     41\u001b[0m result_1024 \u001b[38;5;241m=\u001b[39m hashlib\u001b[38;5;241m.\u001b[39msha256(header)\u001b[38;5;241m.\u001b[39mdigest()\n\u001b[0;32m---> 42\u001b[0m \u001b[38;5;28mprint\u001b[39m(\u001b[38;5;124mf\u001b[39m\u001b[38;5;124m\"\u001b[39m\u001b[38;5;124m1024 hash: \u001b[39m\u001b[38;5;132;01m{\u001b[39;00mstring_to_u32(binascii\u001b[38;5;241m.\u001b[39mhexlify(result_1024))\u001b[38;5;132;01m}\u001b[39;00m\u001b[38;5;124m\"\u001b[39m)\n\u001b[1;32m     43\u001b[0m hash_result_256 \u001b[38;5;241m=\u001b[39m hashlib\u001b[38;5;241m.\u001b[39msha256(result_1024)\u001b[38;5;241m.\u001b[39mdigest()\n\u001b[1;32m     44\u001b[0m hash_result \u001b[38;5;241m=\u001b[39m  binascii\u001b[38;5;241m.\u001b[39mhexlify(hash_result_256)\n",
      "Cell \u001b[0;32mIn[4], line 19\u001b[0m, in \u001b[0;36mstring_to_u32\u001b[0;34m(val)\u001b[0m\n\u001b[1;32m     18\u001b[0m \u001b[38;5;28;01mdef\u001b[39;00m \u001b[38;5;21mstring_to_u32\u001b[39m(val: \u001b[38;5;28mstr\u001b[39m) \u001b[38;5;241m-\u001b[39m\u001b[38;5;241m>\u001b[39m [\u001b[38;5;28mint\u001b[39m]:\n\u001b[0;32m---> 19\u001b[0m     byte_array \u001b[38;5;241m=\u001b[39m \u001b[38;5;28;43mbytes\u001b[39;49m\u001b[38;5;241;43m.\u001b[39;49m\u001b[43mfromhex\u001b[49m\u001b[43m(\u001b[49m\u001b[43mval\u001b[49m\u001b[43m)\u001b[49m\n\u001b[1;32m     20\u001b[0m     u32_array \u001b[38;5;241m=\u001b[39m [\u001b[38;5;28mstr\u001b[39m(\u001b[38;5;28mint\u001b[39m\u001b[38;5;241m.\u001b[39mfrom_bytes(byte_array[i:i\u001b[38;5;241m+\u001b[39m\u001b[38;5;241m4\u001b[39m], \u001b[38;5;124m\"\u001b[39m\u001b[38;5;124mbig\u001b[39m\u001b[38;5;124m\"\u001b[39m)) \u001b[38;5;28;01mfor\u001b[39;00m i \u001b[38;5;129;01min\u001b[39;00m \u001b[38;5;28mrange\u001b[39m(\u001b[38;5;241m0\u001b[39m,\u001b[38;5;28mlen\u001b[39m(byte_array), \u001b[38;5;241m4\u001b[39m)]\n\u001b[1;32m     21\u001b[0m     \u001b[38;5;28;01mreturn\u001b[39;00m u32_array\n",
      "\u001b[0;31mTypeError\u001b[0m: fromhex() argument must be str, not bytes"
     ]
    }
   ],
   "source": [
    "import json\n",
    "from pprint import pprint\n",
    "import hashlib\n",
    "import binascii\n",
    "\n",
    "\n",
    "def splitStringFromBack(word, border):\n",
    "    reverse_word = (word[::-1])\n",
    "    split_reverse = [reverse_word[i:i+border] for i in range(0, len(reverse_word), border)]\n",
    "    return list(reversed([i[::-1] for i in split_reverse]))\n",
    "\n",
    "# TODO: here the inputs are converted to littleEndian, and in the circuits back to bigEndian ??\n",
    "def littleEndian(string):\n",
    "    splited = [str(string)[i:i + 2] for i in range(0, len(str(string)), 2)]\n",
    "    splited.reverse()\n",
    "    return \"\".join(splited)\n",
    "\n",
    "def string_to_u32(val: str) -> [int]:\n",
    "    byte_array = bytes.fromhex(val)\n",
    "    u32_array = [str(int.from_bytes(byte_array[i:i+4], \"big\")) for i in range(0,len(byte_array), 4)]\n",
    "    return u32_array # return \" \".join(u32_array)\n",
    "\n",
    "def createZokratesInputFromBlock(block):\n",
    "    version = littleEndian(block['versionHex'])\n",
    "    little_endian_previousHash = littleEndian(block['previousblockhash']) if block['height'] > 0 else 64 * '0'\n",
    "    little_endian_merkleRoot = littleEndian(block['merkleroot'])\n",
    "    little_endian_time = littleEndian(hex(block['time'])[2:])\n",
    "    little_endian_difficultyBits = littleEndian(block['bits'])\n",
    "    nonce = hex(block['nonce'])[2:]\n",
    "    nonce = '0' * (8 - len(nonce)) + nonce #ensure nonce is 4 bytes long\n",
    "    little_endian_nonce = littleEndian(nonce)\n",
    "\n",
    "    print(f\"version: {version}\\nlittle_endian_previousHash: {string_to_u32(little_endian_previousHash)}\")\n",
    "\n",
    "    header = version + little_endian_previousHash + little_endian_merkleRoot + little_endian_time + little_endian_difficultyBits + little_endian_nonce\n",
    "    return header\n",
    "\n",
    "# source form: https://www.herongyang.com/Bitcoin/Block-Data-Block-Hash-Calculation-in-Python.html\n",
    "def bitcoin_hash(header:str) -> str:\n",
    "    header = binascii.unhexlify(header)\n",
    "    result_1024 = hashlib.sha256(header).digest()\n",
    "    print(f\"1024 hash: {binascii.hexlify(result_1024)}\")\n",
    "    hash_result_256 = hashlib.sha256(result_1024).digest()\n",
    "    hash_result =  binascii.hexlify(hash_result_256)\n",
    "    return bytes.hex(binascii.unhexlify(hash_result)[::-1])\n",
    "\n",
    "data_path = \"./tests/test_data/test_proof/test_correct_proofs/batch_size_2_nr_0.json\"\n",
    "\n",
    "with open(data_path) as json_data:\n",
    "    d = json.load(json_data)\n",
    "    json_data.close()\n",
    "    \n",
    "\n",
    "result = d['http_responses'][2][0]['result']\n",
    "block = createZokratesInputFromBlock(result)\n",
    "print(block)\n",
    "hash_one = bitcoin_hash(block)\n",
    "print(f\"hash_one: {hash_one}\\nblock_hash: {result['hash']}\")\n",
    "assert(hash_one == result['hash'])\n",
    "block_array = string_to_u32(block)\n",
    "print(block_array)\n",
    "print(len(block_array))"
   ]
  },
  {
   "cell_type": "code",
   "execution_count": 2,
   "id": "5a0a2966-fa64-4ac5-a2bf-fdfd3aa5a3a0",
   "metadata": {},
   "outputs": [
    {
     "name": "stdout",
     "output_type": "stream",
     "text": [
      "4 ['1461927438', '1639736905', '4294901789', '31679129']\n",
      "8 ['1877117962', '3069293426', '3248923206', '2925786959', '2468250469', '3780774044', '1758861568', '0']\n"
     ]
    }
   ],
   "source": [
    "epoch_head = block_array[16:]\n",
    "previousblockhash = string_to_u32(littleEndian(result['previousblockhash']))\n",
    "\n",
    "print(len(epoch_head), epoch_head)\n",
    "print(len(previousblockhash), previousblockhash)"
   ]
  },
  {
   "cell_type": "code",
   "execution_count": 3,
   "id": "b93d04aa",
   "metadata": {},
   "outputs": [
    {
     "name": "stdout",
     "output_type": "stream",
     "text": [
      "version: 01000000\n",
      "little_endian_previousHash: ['1214311192', '3206223392', '3816723600', '4236919413', '339832791', '1364831110', '1754176131', '0']\n",
      "hash_one: 00000000839a8e6886ab5951d76f411475428afc90947ee320161bbf18eb6048\n",
      "block_hash: 00000000839a8e6886ab5951d76f411475428afc90947ee320161bbf18eb6048\n",
      "1024 hash: b'9cbba91850f7347bc2f08d325af67165f77751ad85f909c85ae10340a3165b69'\n",
      "hash_two: 000000006a625f06636b8bb6ac7b960a8d03705d1ace08b1a19da3fdcc99ddbd\n",
      "block_hash: 000000006a625f06636b8bb6ac7b960a8d03705d1ace08b1a19da3fdcc99ddbd\n"
     ]
    },
    {
     "data": {
      "text/plain": [
       "'1461927438 1639736905 4294901789 31679129 1877117962 3069293426 3248923206 2925786959 2468250469 3780774044 1758861568 0 16777216 1877117962 3069293426 3248923206 2925786959 2468250469 3780774044 1758861568 0 2552254973 508274500 3149817870 535696487 2074190787 1410070449 3451258600 1461927438 1639736905 4294901789 31679129 16777216 1214311192 3206223392 3816723600 4236919413 339832791 1364831110 1754176131 0 3590179924 505798172 2052775405 4064827576 3144047775 921662542 3828101472 583602075 2965136969 4294901789 148028769'"
      ]
     },
     "execution_count": 3,
     "metadata": {},
     "output_type": "execute_result"
    }
   ],
   "source": [
    "data_path = \"./tests/test_data/test_proof/test_correct_proofs/batch_size_2_nr_1.json\"\n",
    "\n",
    "with open(data_path) as json_data:\n",
    "    next_d = json.load(json_data)\n",
    "    json_data.close()\n",
    "    \n",
    "\n",
    "next_result = next_d['http_responses'][2][0]['result']\n",
    "next_block = createZokratesInputFromBlock(next_result)\n",
    "print(f\"hash_one: {hash_one}\\nblock_hash: {next_result['previousblockhash']}\")\n",
    "assert(hash_one == next_result['previousblockhash'])\n",
    "hash_two = bitcoin_hash(next_block)\n",
    "print(f\"hash_two: {hash_two}\\nblock_hash: {next_result['hash']}\")\n",
    "assert(hash_two == next_result['hash'])\n",
    "next_block_array = string_to_u32(next_block)\n",
    "\n",
    "' '.join(epoch_head + previousblockhash + block_array + next_block_array)"
   ]
  },
  {
   "cell_type": "code",
   "execution_count": 4,
   "id": "5d60160f",
   "metadata": {},
   "outputs": [
    {
     "data": {
      "text/plain": [
       "[1078853575,\n",
       " 2029594080,\n",
       " 1548117460,\n",
       " 3948423730,\n",
       " 2192303488,\n",
       " 3171735633,\n",
       " 869854997,\n",
       " 732448014]"
      ]
     },
     "execution_count": 4,
     "metadata": {},
     "output_type": "execute_result"
    }
   ],
   "source": [
    "[int(x, 16) for x in [\"0x404dffc7\",\"0x78f925e0\",\"0x5c4665d4\",\"0xeb582a32\",\"0x82abe580\",\"0xbd0cd851\",\"0x33d8ef15\",\"0x2ba8450e\"]]"
   ]
  },
  {
   "cell_type": "code",
   "execution_count": 5,
   "id": "7c8b570a",
   "metadata": {},
   "outputs": [
    {
     "data": {
      "text/plain": [
       "{'bits': '1d00ffff',\n",
       " 'chainwork': '0000000000000000000000000000000000000000000000000000000200020002',\n",
       " 'confirmations': 652861,\n",
       " 'difficulty': 1.0,\n",
       " 'hash': '00000000839a8e6886ab5951d76f411475428afc90947ee320161bbf18eb6048',\n",
       " 'height': 1,\n",
       " 'mediantime': 1231469665,\n",
       " 'merkleroot': '0e3e2357e806b6cdb1f70b54c3a3a17b6714ee1f0e68bebb44a74b1efd512098',\n",
       " 'nTx': 1,\n",
       " 'nextblockhash': '000000006a625f06636b8bb6ac7b960a8d03705d1ace08b1a19da3fdcc99ddbd',\n",
       " 'nonce': 2573394689,\n",
       " 'previousblockhash': '000000000019d6689c085ae165831e934ff763ae46a2a6c172b3f1b60a8ce26f',\n",
       " 'size': 215,\n",
       " 'strippedsize': 215,\n",
       " 'time': 1231469665,\n",
       " 'tx': [],\n",
       " 'version': 1,\n",
       " 'versionHex': '00000001',\n",
       " 'weight': 860}"
      ]
     },
     "execution_count": 5,
     "metadata": {},
     "output_type": "execute_result"
    }
   ],
   "source": [
    "result"
   ]
  },
  {
   "cell_type": "code",
   "execution_count": 31,
   "id": "acbd886d",
   "metadata": {},
   "outputs": [
    {
     "name": "stdout",
     "output_type": "stream",
     "text": [
      "dc4b53dcb5ccf998ced33a695cbc1a8683c727b068aa7e08f6ff933c037ee9a7\n"
     ]
    },
    {
     "data": {
      "text/plain": [
       "'cdb435cd5bcc9f89ec3da396c5cba168387c720b86aae7806fff39c330e79e7a'"
      ]
     },
     "execution_count": 31,
     "metadata": {},
     "output_type": "execute_result"
    }
   ],
   "source": [
    "encoded_hash = [\"0x4860eb18\",\"0xbf1b1620\",\"0xe37e9490\",\"0xfc8a4275\",\"0x14416fd7\",\"0x5159ab86\",\"0x688e9a83\",\"0x00000000\"]\n",
    "previous_hash = [\"0x7a9ee730\",\"0xc339ff6f\",\"0x80e7aa86\",\"0x0b727c38\",\"0x68a1cbc5\",\"0x96a33dec\",\"0x899fcc5b\",\"0xcd35b4cd\"]\n",
    "\n",
    "print(''.join([(x[2:]) for x in previous_hash])[::-1])\n",
    "(b\"\".join([binascii.unhexlify(x[2:]) for x in previous_hash])[::-1]).hex()\n",
    "\n",
    "# assert(encoded_hash_inv == next_result['hash'])\n",
    "\n",
    "# decoded_hash = ''.join([str(int(x, 16)) for x in encoded_hash])\n",
    "# decoded_prev_hash = ''.join([str(int(x, 16)) for x in previous_hash])\n",
    "\n",
    "# print(f\"{decoded_hash}\\n{decoded_prev_hash}\")\n",
    "\n",
    "# decoded_hash_inv = ''.join([str(int(x, 16)) for x in encoded_hash[::-1]])\n",
    "# decoded_prev_hash_inv = ''.join([str(int(x, 16)) for x in previous_hash[::-1]])\n",
    "\n",
    "# print(f\"{decoded_hash_inv}\\n{decoded_prev_hash_inv}\")"
   ]
  },
  {
   "cell_type": "code",
   "execution_count": 14,
   "id": "b677b5fc",
   "metadata": {},
   "outputs": [
    {
     "data": {
      "text/plain": [
       "{'bits': '1d00ffff',\n",
       " 'chainwork': '0000000000000000000000000000000000000000000000000000000300030003',\n",
       " 'confirmations': 652851,\n",
       " 'difficulty': 1.0,\n",
       " 'hash': '000000006a625f06636b8bb6ac7b960a8d03705d1ace08b1a19da3fdcc99ddbd',\n",
       " 'height': 2,\n",
       " 'mediantime': 1231469665,\n",
       " 'merkleroot': '9b0fc92260312ce44e74ef369f5c66bbb85848f2eddd5a7a1cde251e54ccfdd5',\n",
       " 'nTx': 1,\n",
       " 'nextblockhash': '0000000082b5015589a3fdf2d4baff403e6f0be035a5d9742c1cae6295464449',\n",
       " 'nonce': 1639830024,\n",
       " 'previousblockhash': '00000000839a8e6886ab5951d76f411475428afc90947ee320161bbf18eb6048',\n",
       " 'size': 215,\n",
       " 'strippedsize': 215,\n",
       " 'time': 1231469744,\n",
       " 'tx': [],\n",
       " 'version': 1,\n",
       " 'versionHex': '00000001',\n",
       " 'weight': 860}"
      ]
     },
     "execution_count": 14,
     "metadata": {},
     "output_type": "execute_result"
    }
   ],
   "source": [
    "next_result"
   ]
  },
  {
   "cell_type": "code",
   "execution_count": null,
   "id": "0fc8fd42",
   "metadata": {},
   "outputs": [],
   "source": []
  }
 ],
 "metadata": {
  "kernelspec": {
   "display_name": "Python 3 (ipykernel)",
   "language": "python",
   "name": "python3"
  },
  "language_info": {
   "codemirror_mode": {
    "name": "ipython",
    "version": 3
   },
   "file_extension": ".py",
   "mimetype": "text/x-python",
   "name": "python",
   "nbconvert_exporter": "python",
   "pygments_lexer": "ipython3",
   "version": "3.9.18"
  }
 },
 "nbformat": 4,
 "nbformat_minor": 5
}
