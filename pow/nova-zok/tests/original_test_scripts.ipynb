{
 "cells": [
  {
   "cell_type": "code",
   "execution_count": 15,
   "id": "dcfa46fc-128b-4599-a034-7ac8d0fbcb9a",
   "metadata": {},
   "outputs": [
    {
     "name": "stdout",
     "output_type": "stream",
     "text": [
      "version: 01000000\n",
      "little_endian_previousHash: ['1877117962', '3069293426', '3248923206', '2925786959', '2468250469', '3780774044', '1758861568', '0']\n",
      "010000006fe28c0ab6f1b372c1a6a246ae63f74f931e8365e15a089c68d6190000000000982051fd1e4ba744bbbe680e1fee14677ba1a3c3540bf7b1cdb606e857233e0e61bc6649ffff001d01e36299\n",
      "1024 hash: 0xa76dd737, 0x90def7b5, 0x7776f22f, 0xa211d19c, 0xf43121a7, 0x09a37eae, 0xda17230e, 0xaac258f5\n",
      "256 hash: 0x4860eb18, 0xbf1b1620, 0xe37e9490, 0xfc8a4275, 0x14416fd7, 0x5159ab86, 0x688e9a83, 0x00000000\n",
      "hash_one: 00000000839a8e6886ab5951d76f411475428afc90947ee320161bbf18eb6048\n",
      "block_hash: 00000000839a8e6886ab5951d76f411475428afc90947ee320161bbf18eb6048\n",
      "['16777216', '1877117962', '3069293426', '3248923206', '2925786959', '2468250469', '3780774044', '1758861568', '0', '2552254973', '508274500', '3149817870', '535696487', '2074190787', '1410070449', '3451258600', '1461927438', '1639736905', '4294901789', '31679129']\n",
      "20\n"
     ]
    }
   ],
   "source": [
    "import json\n",
    "from pprint import pprint\n",
    "import hashlib\n",
    "import binascii\n",
    "\n",
    "\n",
    "def littleEndian(string):\n",
    "    splited = [str(string)[i:i + 2] for i in range(0, len(str(string)), 2)]\n",
    "    splited.reverse()\n",
    "    return \"\".join(splited)\n",
    "\n",
    "def string_to_u32(val: str) -> [int]:\n",
    "    byte_array = bytes.fromhex(val)\n",
    "    u32_array = [str(int.from_bytes(byte_array[i:i+4], \"big\")) for i in range(0,len(byte_array), 4)]\n",
    "    return u32_array # return \" \".join(u32_array)\n",
    "\n",
    "def createZokratesInputFromBlock(block):\n",
    "    version = littleEndian(block['versionHex'])\n",
    "    little_endian_previousHash = littleEndian(block['previousblockhash']) if block['height'] > 0 else 64 * '0'\n",
    "    little_endian_merkleRoot = littleEndian(block['merkleroot'])\n",
    "    little_endian_time = littleEndian(hex(block['time'])[2:])\n",
    "    little_endian_difficultyBits = littleEndian(block['bits'])\n",
    "    nonce = hex(block['nonce'])[2:]\n",
    "    nonce = '0' * (8 - len(nonce)) + nonce #ensure nonce is 4 bytes long\n",
    "    little_endian_nonce = littleEndian(nonce)\n",
    "\n",
    "    print(f\"version: {version}\\nlittle_endian_previousHash: {string_to_u32(little_endian_previousHash)}\")\n",
    "\n",
    "    header = version + little_endian_previousHash + little_endian_merkleRoot + little_endian_time + little_endian_difficultyBits + little_endian_nonce\n",
    "    return header\n",
    "\n",
    "# source form: https://www.herongyang.com/Bitcoin/Block-Data-Block-Hash-Calculation-in-Python.html\n",
    "def bitcoin_hash(header:str) -> str:\n",
    "    header = binascii.unhexlify(header)\n",
    "    result_1024 = hashlib.sha256(header).digest()\n",
    "    print(\"1024 hash: \" + \", \".join([f\"0x{result_1024[i:i+4].hex()}\" for i in range(0, len(result_1024), 4)]))\n",
    "    hash_result_256 = hashlib.sha256(result_1024).digest()\n",
    "    hash_result =  binascii.hexlify(hash_result_256)\n",
    "    print(\"256 hash: \" + \", \".join([f\"0x{hash_result_256[i:i+4].hex()}\" for i in range(0, len(hash_result_256), 4)]))\n",
    "    return bytes.hex(binascii.unhexlify(hash_result)[::-1])\n",
    "\n",
    "data_path = \"./tests/test_data/test_proof/test_correct_proofs/batch_size_2_nr_0.json\"\n",
    "\n",
    "with open(data_path) as json_data:\n",
    "    d = json.load(json_data)\n",
    "    json_data.close()\n",
    "    \n",
    "\n",
    "result = d['http_responses'][2][0]['result']\n",
    "block = createZokratesInputFromBlock(result)\n",
    "print(block)\n",
    "hash_one = bitcoin_hash(block)\n",
    "print(f\"hash_one: {hash_one}\\nblock_hash: {result['hash']}\")\n",
    "assert(hash_one == result['hash'])\n",
    "block_array = string_to_u32(block)\n",
    "print(block_array)\n",
    "print(len(block_array))"
   ]
  },
  {
   "cell_type": "code",
   "execution_count": 2,
   "id": "5a0a2966-fa64-4ac5-a2bf-fdfd3aa5a3a0",
   "metadata": {},
   "outputs": [
    {
     "name": "stdout",
     "output_type": "stream",
     "text": [
      "4 ['1461927438', '1639736905', '4294901789', '31679129']\n",
      "8 ['1877117962', '3069293426', '3248923206', '2925786959', '2468250469', '3780774044', '1758861568', '0']\n"
     ]
    }
   ],
   "source": [
    "epoch_head = block_array[16:]\n",
    "previousblockhash = string_to_u32(littleEndian(result['previousblockhash']))\n",
    "\n",
    "print(len(epoch_head), epoch_head)\n",
    "print(len(previousblockhash), previousblockhash)"
   ]
  },
  {
   "cell_type": "code",
   "execution_count": 3,
   "id": "b93d04aa",
   "metadata": {},
   "outputs": [
    {
     "name": "stdout",
     "output_type": "stream",
     "text": [
      "version: 01000000\n",
      "little_endian_previousHash: ['1214311192', '3206223392', '3816723600', '4236919413', '339832791', '1364831110', '1754176131', '0']\n",
      "hash_one: 00000000839a8e6886ab5951d76f411475428afc90947ee320161bbf18eb6048\n",
      "block_hash: 00000000839a8e6886ab5951d76f411475428afc90947ee320161bbf18eb6048\n",
      "1024 hash: b'9cbba91850f7347bc2f08d325af67165f77751ad85f909c85ae10340a3165b69'\n",
      "hash_two: 000000006a625f06636b8bb6ac7b960a8d03705d1ace08b1a19da3fdcc99ddbd\n",
      "block_hash: 000000006a625f06636b8bb6ac7b960a8d03705d1ace08b1a19da3fdcc99ddbd\n"
     ]
    },
    {
     "data": {
      "text/plain": [
       "'1461927438 1639736905 4294901789 31679129 1877117962 3069293426 3248923206 2925786959 2468250469 3780774044 1758861568 0 16777216 1877117962 3069293426 3248923206 2925786959 2468250469 3780774044 1758861568 0 2552254973 508274500 3149817870 535696487 2074190787 1410070449 3451258600 1461927438 1639736905 4294901789 31679129 16777216 1214311192 3206223392 3816723600 4236919413 339832791 1364831110 1754176131 0 3590179924 505798172 2052775405 4064827576 3144047775 921662542 3828101472 583602075 2965136969 4294901789 148028769'"
      ]
     },
     "execution_count": 3,
     "metadata": {},
     "output_type": "execute_result"
    }
   ],
   "source": [
    "data_path = \"./tests/test_data/test_proof/test_correct_proofs/batch_size_2_nr_1.json\"\n",
    "\n",
    "with open(data_path) as json_data:\n",
    "    next_d = json.load(json_data)\n",
    "    json_data.close()\n",
    "    \n",
    "\n",
    "next_result = next_d['http_responses'][2][0]['result']\n",
    "next_block = createZokratesInputFromBlock(next_result)\n",
    "print(f\"hash_one: {hash_one}\\nblock_hash: {next_result['previousblockhash']}\")\n",
    "assert(hash_one == next_result['previousblockhash'])\n",
    "hash_two = bitcoin_hash(next_block)\n",
    "print(f\"hash_two: {hash_two}\\nblock_hash: {next_result['hash']}\")\n",
    "assert(hash_two == next_result['hash'])\n",
    "next_block_array = string_to_u32(next_block)\n",
    "\n",
    "' '.join(epoch_head + previousblockhash + block_array + next_block_array)"
   ]
  },
  {
   "cell_type": "code",
   "execution_count": 4,
   "id": "5d60160f",
   "metadata": {},
   "outputs": [
    {
     "data": {
      "text/plain": [
       "[1078853575,\n",
       " 2029594080,\n",
       " 1548117460,\n",
       " 3948423730,\n",
       " 2192303488,\n",
       " 3171735633,\n",
       " 869854997,\n",
       " 732448014]"
      ]
     },
     "execution_count": 4,
     "metadata": {},
     "output_type": "execute_result"
    }
   ],
   "source": [
    "[int(x, 16) for x in [\"0x404dffc7\",\"0x78f925e0\",\"0x5c4665d4\",\"0xeb582a32\",\"0x82abe580\",\"0xbd0cd851\",\"0x33d8ef15\",\"0x2ba8450e\"]]"
   ]
  },
  {
   "cell_type": "code",
   "execution_count": 5,
   "id": "7c8b570a",
   "metadata": {},
   "outputs": [
    {
     "data": {
      "text/plain": [
       "{'bits': '1d00ffff',\n",
       " 'chainwork': '0000000000000000000000000000000000000000000000000000000200020002',\n",
       " 'confirmations': 652861,\n",
       " 'difficulty': 1.0,\n",
       " 'hash': '00000000839a8e6886ab5951d76f411475428afc90947ee320161bbf18eb6048',\n",
       " 'height': 1,\n",
       " 'mediantime': 1231469665,\n",
       " 'merkleroot': '0e3e2357e806b6cdb1f70b54c3a3a17b6714ee1f0e68bebb44a74b1efd512098',\n",
       " 'nTx': 1,\n",
       " 'nextblockhash': '000000006a625f06636b8bb6ac7b960a8d03705d1ace08b1a19da3fdcc99ddbd',\n",
       " 'nonce': 2573394689,\n",
       " 'previousblockhash': '000000000019d6689c085ae165831e934ff763ae46a2a6c172b3f1b60a8ce26f',\n",
       " 'size': 215,\n",
       " 'strippedsize': 215,\n",
       " 'time': 1231469665,\n",
       " 'tx': [],\n",
       " 'version': 1,\n",
       " 'versionHex': '00000001',\n",
       " 'weight': 860}"
      ]
     },
     "execution_count": 5,
     "metadata": {},
     "output_type": "execute_result"
    }
   ],
   "source": [
    "result"
   ]
  },
  {
   "cell_type": "code",
   "execution_count": 31,
   "id": "acbd886d",
   "metadata": {},
   "outputs": [
    {
     "name": "stdout",
     "output_type": "stream",
     "text": [
      "dc4b53dcb5ccf998ced33a695cbc1a8683c727b068aa7e08f6ff933c037ee9a7\n"
     ]
    },
    {
     "data": {
      "text/plain": [
       "'cdb435cd5bcc9f89ec3da396c5cba168387c720b86aae7806fff39c330e79e7a'"
      ]
     },
     "execution_count": 31,
     "metadata": {},
     "output_type": "execute_result"
    }
   ],
   "source": [
    "encoded_hash = [\"0x4860eb18\",\"0xbf1b1620\",\"0xe37e9490\",\"0xfc8a4275\",\"0x14416fd7\",\"0x5159ab86\",\"0x688e9a83\",\"0x00000000\"]\n",
    "previous_hash = [\"0x7a9ee730\",\"0xc339ff6f\",\"0x80e7aa86\",\"0x0b727c38\",\"0x68a1cbc5\",\"0x96a33dec\",\"0x899fcc5b\",\"0xcd35b4cd\"]\n",
    "\n",
    "print(''.join([(x[2:]) for x in previous_hash])[::-1])\n",
    "(b\"\".join([binascii.unhexlify(x[2:]) for x in previous_hash])[::-1]).hex()\n",
    "\n",
    "# assert(encoded_hash_inv == next_result['hash'])\n",
    "\n",
    "# decoded_hash = ''.join([str(int(x, 16)) for x in encoded_hash])\n",
    "# decoded_prev_hash = ''.join([str(int(x, 16)) for x in previous_hash])\n",
    "\n",
    "# print(f\"{decoded_hash}\\n{decoded_prev_hash}\")\n",
    "\n",
    "# decoded_hash_inv = ''.join([str(int(x, 16)) for x in encoded_hash[::-1]])\n",
    "# decoded_prev_hash_inv = ''.join([str(int(x, 16)) for x in previous_hash[::-1]])\n",
    "\n",
    "# print(f\"{decoded_hash_inv}\\n{decoded_prev_hash_inv}\")"
   ]
  },
  {
   "cell_type": "code",
   "execution_count": 14,
   "id": "b677b5fc",
   "metadata": {},
   "outputs": [
    {
     "data": {
      "text/plain": [
       "{'bits': '1d00ffff',\n",
       " 'chainwork': '0000000000000000000000000000000000000000000000000000000300030003',\n",
       " 'confirmations': 652851,\n",
       " 'difficulty': 1.0,\n",
       " 'hash': '000000006a625f06636b8bb6ac7b960a8d03705d1ace08b1a19da3fdcc99ddbd',\n",
       " 'height': 2,\n",
       " 'mediantime': 1231469665,\n",
       " 'merkleroot': '9b0fc92260312ce44e74ef369f5c66bbb85848f2eddd5a7a1cde251e54ccfdd5',\n",
       " 'nTx': 1,\n",
       " 'nextblockhash': '0000000082b5015589a3fdf2d4baff403e6f0be035a5d9742c1cae6295464449',\n",
       " 'nonce': 1639830024,\n",
       " 'previousblockhash': '00000000839a8e6886ab5951d76f411475428afc90947ee320161bbf18eb6048',\n",
       " 'size': 215,\n",
       " 'strippedsize': 215,\n",
       " 'time': 1231469744,\n",
       " 'tx': [],\n",
       " 'version': 1,\n",
       " 'versionHex': '00000001',\n",
       " 'weight': 860}"
      ]
     },
     "execution_count": 14,
     "metadata": {},
     "output_type": "execute_result"
    }
   ],
   "source": [
    "next_result"
   ]
  },
  {
   "cell_type": "code",
   "execution_count": 29,
   "id": "0fc8fd42",
   "metadata": {},
   "outputs": [
    {
     "data": {
      "text/plain": [
       "['0x80000000',\n",
       " '0x00000000',\n",
       " '0x00000000',\n",
       " '0x00000000',\n",
       " '0x00000000',\n",
       " '0x00000000',\n",
       " '0x00000000',\n",
       " '0x00000100']"
      ]
     },
     "execution_count": 29,
     "metadata": {},
     "output_type": "execute_result"
    }
   ],
   "source": [
    "mask = (1 << 255 | 1 << 8)\n",
    "assert(len(bin(mask)[2:]) == 256)\n",
    "\n",
    "mask_bytes = mask.to_bytes(256 // 8, 'big') \n",
    "\n",
    "[f\"0x{mask_bytes[i:i+4].hex()}\" for i in range(0, len(mask_bytes), 4)]"
   ]
  },
  {
   "cell_type": "code",
   "execution_count": 31,
   "id": "fe67a47e",
   "metadata": {},
   "outputs": [
    {
     "data": {
      "text/plain": [
       "'0x80000000, 0x00000000, 0x00000000, 0x00000000'"
      ]
     },
     "execution_count": 31,
     "metadata": {},
     "output_type": "execute_result"
    }
   ],
   "source": [
    "mask = (1 << 127)\n",
    "mask_bytes = mask.to_bytes(128 // 8, 'big') \n",
    "\n",
    "\", \".join([f\"0x{mask_bytes[i:i+4].hex()}\" for i in range(0, len(mask_bytes), 4)])"
   ]
  },
  {
   "cell_type": "code",
   "execution_count": null,
   "id": "71eea616",
   "metadata": {},
   "outputs": [],
   "source": []
  }
 ],
 "metadata": {
  "kernelspec": {
   "display_name": "Python 3 (ipykernel)",
   "language": "python",
   "name": "python3"
  },
  "language_info": {
   "codemirror_mode": {
    "name": "ipython",
    "version": 3
   },
   "file_extension": ".py",
   "mimetype": "text/x-python",
   "name": "python",
   "nbconvert_exporter": "python",
   "pygments_lexer": "ipython3",
   "version": "3.9.18"
  }
 },
 "nbformat": 4,
 "nbformat_minor": 5
}
