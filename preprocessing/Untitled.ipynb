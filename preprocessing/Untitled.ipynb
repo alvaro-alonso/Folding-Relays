{
 "cells": [
  {
   "cell_type": "code",
   "execution_count": 2,
   "id": "dcfa46fc-128b-4599-a034-7ac8d0fbcb9a",
   "metadata": {},
   "outputs": [
    {
     "ename": "ModuleNotFoundError",
     "evalue": "No module named 'bitstring'",
     "output_type": "error",
     "traceback": [
      "\u001b[0;31m---------------------------------------------------------------------------\u001b[0m",
      "\u001b[0;31mModuleNotFoundError\u001b[0m                       Traceback (most recent call last)",
      "Cell \u001b[0;32mIn[2], line 1\u001b[0m\n\u001b[0;32m----> 1\u001b[0m \u001b[38;5;28;01mimport\u001b[39;00m \u001b[38;5;21;01mcreate_input\u001b[39;00m\n\u001b[1;32m      4\u001b[0m pd\u001b[38;5;241m.\u001b[39mread_json(\u001b[38;5;124m\"\u001b[39m\u001b[38;5;124m../test/test_data/test_proof/test_correct_proofs/batch_size_2_nr_0.json\u001b[39m\u001b[38;5;124m\"\u001b[39m)\n",
      "File \u001b[0;32m~/code/zokrates+/zkRelay/preprocessing/create_input.py:1\u001b[0m\n\u001b[0;32m----> 1\u001b[0m \u001b[38;5;28;01mfrom\u001b[39;00m \u001b[38;5;21;01mbitstring\u001b[39;00m \u001b[38;5;28;01mimport\u001b[39;00m BitArray\n\u001b[1;32m      3\u001b[0m GENESIS_BLOCK_HASH \u001b[38;5;241m=\u001b[39m \u001b[38;5;124m'\u001b[39m\u001b[38;5;124m000000000019d6689c085ae165831e934ff763ae46a2a6c172b3f1b60a8ce26f\u001b[39m\u001b[38;5;124m'\u001b[39m\n\u001b[1;32m      6\u001b[0m \u001b[38;5;28;01mdef\u001b[39;00m \u001b[38;5;21msplitStringFromBack\u001b[39m(word, border):\n",
      "\u001b[0;31mModuleNotFoundError\u001b[0m: No module named 'bitstring'"
     ]
    }
   ],
   "source": [
    "import create_input\n",
    "\n",
    "\n",
    "pd.read_json(\"../test/test_data/test_proof/test_correct_proofs/batch_size_2_nr_0.json\")"
   ]
  },
  {
   "cell_type": "code",
   "execution_count": null,
   "id": "5a0a2966-fa64-4ac5-a2bf-fdfd3aa5a3a0",
   "metadata": {},
   "outputs": [],
   "source": []
  }
 ],
 "metadata": {
  "kernelspec": {
   "display_name": "Python 3 (ipykernel)",
   "language": "python",
   "name": "python3"
  },
  "language_info": {
   "codemirror_mode": {
    "name": "ipython",
    "version": 3
   },
   "file_extension": ".py",
   "mimetype": "text/x-python",
   "name": "python",
   "nbconvert_exporter": "python",
   "pygments_lexer": "ipython3",
   "version": "3.9.18"
  }
 },
 "nbformat": 4,
 "nbformat_minor": 5
}
